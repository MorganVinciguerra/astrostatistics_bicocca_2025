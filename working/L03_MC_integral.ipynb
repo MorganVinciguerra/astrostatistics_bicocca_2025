{
 "cells": [
  {
   "cell_type": "code",
   "execution_count": 2,
   "id": "d9969034-6bb1-482c-9b4a-794f3178337e",
   "metadata": {},
   "outputs": [],
   "source": [
    "import numpy as np\n",
    "import scipy.stats\n",
    "import matplotlib as plt\n",
    "import random"
   ]
  },
  {
   "cell_type": "markdown",
   "id": "8143d4eb-bc0f-4ef6-ae17-f06a54628809",
   "metadata": {},
   "source": [
    "Check if that Monte Carlo method actually works "
   ]
  },
  {
   "cell_type": "code",
   "execution_count": 4,
   "id": "6ae0848d-1649-4332-ac06-b20aa99b00e9",
   "metadata": {},
   "outputs": [
    {
     "name": "stdout",
     "output_type": "stream",
     "text": [
      "32.44885709543819 32\n"
     ]
    }
   ],
   "source": [
    "#Let's do it in the easy way\n",
    "N=10000\n",
    "sum=0 #Initialise the sum\n",
    "sigma=2 #Parameter of the integral\n",
    "for i in range(N):\n",
    "    sum += np.power(np.abs(random.gauss(0,sigma)), 3)\n",
    "res=np.sqrt(np.pi/2)*sigma*sum/N\n",
    "print(res, 2*np.power(sigma, 4)) #Result of the method vs expected value"
   ]
  },
  {
   "cell_type": "code",
   "execution_count": null,
   "id": "e7178ec3-c68b-44df-aff3-1a84a289098a",
   "metadata": {},
   "outputs": [],
   "source": []
  }
 ],
 "metadata": {
  "kernelspec": {
   "display_name": "Python 3 (ipykernel)",
   "language": "python",
   "name": "python3"
  },
  "language_info": {
   "codemirror_mode": {
    "name": "ipython",
    "version": 3
   },
   "file_extension": ".py",
   "mimetype": "text/x-python",
   "name": "python",
   "nbconvert_exporter": "python",
   "pygments_lexer": "ipython3",
   "version": "3.12.4"
  }
 },
 "nbformat": 4,
 "nbformat_minor": 5
}
