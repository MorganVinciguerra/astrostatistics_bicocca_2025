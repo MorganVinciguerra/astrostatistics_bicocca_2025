{
 "cells": [
  {
   "cell_type": "markdown",
   "id": "1d7dbca3-9d25-41b7-906b-d85a2d36df8a",
   "metadata": {},
   "source": [
    "This is a simulation of the Monty Hall problem featuring three kinds of player: the switcher, the conservative, and the newcomer."
   ]
  },
  {
   "cell_type": "code",
   "execution_count": 2,
   "id": "c6adf54e-431a-4144-8fb2-5d1870958e06",
   "metadata": {},
   "outputs": [],
   "source": [
    "import numpy as np\n",
    "from matplotlib import pyplot as plt\n",
    "import random"
   ]
  },
  {
   "cell_type": "code",
   "execution_count": 3,
   "id": "50c20b9d-a2f0-425a-b60d-4d492937c896",
   "metadata": {},
   "outputs": [],
   "source": [
    "#We simulate the three doors, giving to each \"entity\" a door index (therefore between 1 and 3)\n",
    "c=random.randint(1,3) #The car index \n",
    "g1=0 #Initialise the first goat index\n",
    "g2=0 #Initialise the second goat index\n",
    "\n",
    "for i in range (1,4): #Cycle to define the first goat index\n",
    "    if i != c:\n",
    "        g1 = i\n",
    "        break\n",
    "        \n",
    "for i in range (1,4): #Cycle to define the second goat index\n",
    "    if (i != c) and (i != g1):\n",
    "        g2 = i\n",
    "        break"
   ]
  },
  {
   "cell_type": "code",
   "execution_count": 4,
   "id": "32891ea0-746e-4c97-82a7-6d51072845cd",
   "metadata": {},
   "outputs": [],
   "source": [
    "#We define the first guess of any player\n",
    "guess=random.randint(1,3)"
   ]
  },
  {
   "cell_type": "code",
   "execution_count": 5,
   "id": "47e1b89d-bf2c-4407-b4c7-a3c457dd7e51",
   "metadata": {},
   "outputs": [],
   "source": [
    "#We \"reveal\" one of the goat, scilicet we take an index off\n",
    "g_index=0 #Initialise the revealed index\n",
    "\n",
    "if guess==c:\n",
    "    g_index=g1\n",
    "\n",
    "if guess==g1:\n",
    "    g_index=g2\n",
    "\n",
    "if guess==g2:\n",
    "    g_index=g1\n",
    "\n",
    "#We define the indexes at the disposal of the switcher\n",
    "indexes=[]\n",
    "for i in range (1,4):\n",
    "    if i != g_index:\n",
    "        indexes.append(i)"
   ]
  },
  {
   "cell_type": "code",
   "execution_count": 6,
   "id": "3443b1cf-5e04-420f-a25f-961d77098561",
   "metadata": {},
   "outputs": [],
   "source": [
    "#We simulate the three players\n",
    "s_guess=0 #Initialise the switcher's guess\n",
    "for i in range (1,4): #Define the switcher's choice\n",
    "    if (i != g_index) & (i != guess):\n",
    "        s_guess=i\n",
    "        \n",
    "c_guess=guess #Conservative's guess\n",
    "n_guess=random.choice(indexes) #Newcomer's guess"
   ]
  },
  {
   "cell_type": "code",
   "execution_count": 7,
   "id": "a45b97bf-16a0-49b8-a5ba-f21b8655a027",
   "metadata": {},
   "outputs": [
    {
     "name": "stdout",
     "output_type": "stream",
     "text": [
      "0.6674 0.3326 0.5057\n"
     ]
    }
   ],
   "source": [
    "#Let's do several simulations\n",
    "s_w=0 #Initialise switcher's victories\n",
    "c_w=0 #Initialise conservative's victories\n",
    "n_w=0 #Initialise newcomer's victories\n",
    "\n",
    "S=10000 #Number of simulations\n",
    "\n",
    "for i in range (S):\n",
    "    #We simulate the three doors, giving to each \"entity\" a door index (therefore between 1 and 3)\n",
    "    c=random.randint(1,3) #The car index \n",
    "    g1=0 #Initialise the first goat index\n",
    "    g2=0 #Initialise the second goat index\n",
    "    \n",
    "    for i in range (1,4): #Cycle to define the first goat index\n",
    "        if i != c:\n",
    "            g1 = i\n",
    "            break\n",
    "            \n",
    "    for i in range (1,4): #Cycle to define the second goat index\n",
    "        if (i != c) and (i != g1):\n",
    "            g2 = i\n",
    "            break\n",
    "\n",
    "    #We define the first guess of any player\n",
    "    guess=random.randint(1,3)\n",
    "\n",
    "    #We \"reveal\" one of the goat, scilicet we take an index off\n",
    "    g_index=0 #Initialise the revealed index\n",
    "    \n",
    "    if guess==c:\n",
    "        g_index=g1\n",
    "    \n",
    "    if guess==g1:\n",
    "        g_index=g2\n",
    "    \n",
    "    if guess==g2:\n",
    "        g_index=g1\n",
    "    \n",
    "    #We define the indexes at the disposal of the switcher\n",
    "    indexes=[]\n",
    "    for i in range (1,4):\n",
    "        if i != g_index:\n",
    "            indexes.append(i)\n",
    "\n",
    "    #We simulate the three players\n",
    "    s_guess=0 #Initialise the switcher's guess\n",
    "    for i in range (1,4): #Define the switcher's choice\n",
    "        if (i != g_index) & (i != guess):\n",
    "            s_guess=i\n",
    "        \n",
    "    c_guess=guess #Conservative's guess\n",
    "    n_guess=random.choice(indexes) #Newcomer's guess\n",
    "    \n",
    "    #Let's record the victories\n",
    "    if s_guess==c:\n",
    "        s_w+=1\n",
    "        \n",
    "    if c_guess==c:\n",
    "        c_w+=1\n",
    "\n",
    "    if n_guess==c:\n",
    "        n_w+=1\n",
    "\n",
    "print(s_w/S, c_w/S, n_w/S)"
   ]
  },
  {
   "cell_type": "markdown",
   "id": "41283f73",
   "metadata": {},
   "source": [
    "The switcher is more likely to win"
   ]
  },
  {
   "cell_type": "markdown",
   "id": "9a09f104-9679-4daa-916c-1e3435a9dea0",
   "metadata": {},
   "source": [
    "You have N doors to choose from, and the presenter opens p < N. Let's study how the probability of winning changes as a function of N and P. "
   ]
  },
  {
   "cell_type": "markdown",
   "id": "1d7655a6-6c69-46a1-8ed5-74637d3ce97c",
   "metadata": {},
   "source": [
    "The previous method is impractical for an N doors case, therefore we implement a new one"
   ]
  },
  {
   "cell_type": "code",
   "execution_count": 10,
   "id": "ae7ffac1-a774-49d4-b362-585bda814d10",
   "metadata": {},
   "outputs": [],
   "source": [
    "#We initialise an array to simulate the doors of length N\n",
    "N=100 #Number of doors\n",
    "doors=np.zeros(N)"
   ]
  },
  {
   "cell_type": "code",
   "execution_count": 11,
   "id": "d078510c-58ad-46ff-a5c6-c3e116fd459d",
   "metadata": {},
   "outputs": [
    {
     "name": "stdout",
     "output_type": "stream",
     "text": [
      "82 1.0\n"
     ]
    }
   ],
   "source": [
    "#We define where is the car\n",
    "car_index=random.randint(0,(N-1))\n",
    "doors[car_index]=1\n",
    "print(car_index, doors[car_index])"
   ]
  },
  {
   "cell_type": "code",
   "execution_count": 12,
   "id": "1e1e678c-f094-4d88-8a49-db7a7fdf4cfe",
   "metadata": {},
   "outputs": [
    {
     "name": "stdout",
     "output_type": "stream",
     "text": [
      "4\n"
     ]
    }
   ],
   "source": [
    "#We define the first guess of any player\n",
    "guess=random.randint(0, (N-1))\n",
    "print(guess)"
   ]
  },
  {
   "cell_type": "code",
   "execution_count": 13,
   "id": "82179d4c-013a-4575-bd37-f2f5aae596af",
   "metadata": {},
   "outputs": [],
   "source": [
    "#Create an array with the the door indexes besides the car's and the guess' door\n",
    "doors_indexes=[]\n",
    "for i in range(len(doors)):\n",
    "    if (i != car_index) & (i != guess): #It ignores indexes of car's door and the guess' door\n",
    "        doors_indexes.append(i)"
   ]
  },
  {
   "cell_type": "code",
   "execution_count": 14,
   "id": "9e1ccef5-06e6-45ba-8059-231fa455004e",
   "metadata": {},
   "outputs": [
    {
     "name": "stderr",
     "output_type": "stream",
     "text": [
      "/tmp/ipykernel_7751/2675013680.py:6: DeprecationWarning: Calling nonzero on 0d arrays is deprecated, as it behaves surprisingly. Use `atleast_1d(cond).nonzero()` if the old behavior was intended. If the context of this warning is of the form `arr[nonzero(cond)]`, just use `arr[cond]`.\n",
      "  doors_indexes = np.delete(doors_indexes, np.where(doors_indexes == opening_index), 0) #Delete the value of the index of the open door\n"
     ]
    }
   ],
   "source": [
    "#We \"reveal\" p goats, scilicet we take their indexes off\n",
    "p=30 #Opened doors\n",
    "for i in range(p):\n",
    "    opening_index=random.choice(doors_indexes) #Return an index of a to-be-open door\n",
    "    doors[opening_index]=2 #Set a \"2\" for the opened doors\n",
    "    doors_indexes = np.delete(doors_indexes, np.where(doors_indexes == opening_index), 0) #Delete the value of the index of the open door"
   ]
  },
  {
   "cell_type": "code",
   "execution_count": null,
   "id": "8b7601bf-3aaf-4912-8014-f09d34b737a3",
   "metadata": {},
   "outputs": [
    {
     "name": "stdout",
     "output_type": "stream",
     "text": [
      "69 1 30\n",
      "100\n"
     ]
    }
   ],
   "source": [
    "#Test to check if the sum is equal to N\n",
    "counter0=0\n",
    "counter1=0\n",
    "counter2=0\n",
    "for i in range(len(doors)):\n",
    "    if doors[i]==0:\n",
    "        counter0+=1\n",
    "    if doors[i]==1:\n",
    "        counter1+=1\n",
    "    if doors[i]==2:\n",
    "        counter2+=1\n",
    "print(counter0, counter1, counter2) #We want not to open multiple times the same door or the guessed door or the car door\n",
    "print(counter0 + counter1 + counter2)"
   ]
  },
  {
   "cell_type": "code",
   "execution_count": 16,
   "id": "2e57a972-653d-4713-8a55-877fb55fcb2e",
   "metadata": {},
   "outputs": [
    {
     "name": "stdout",
     "output_type": "stream",
     "text": [
      "[2. 0. 2. 0. 0. 0. 2. 0. 2. 0. 0. 2. 2. 2. 0. 0. 2. 0. 0. 0. 2. 2. 2. 0.\n",
      " 0. 0. 0. 0. 0. 0. 0. 0. 0. 0. 2. 0. 0. 0. 0. 2. 0. 0. 0. 0. 0. 2. 0. 0.\n",
      " 0. 0. 0. 0. 0. 0. 0. 2. 2. 0. 2. 2. 0. 0. 0. 2. 0. 2. 0. 0. 0. 2. 0. 0.\n",
      " 2. 2. 0. 2. 0. 0. 0. 0. 0. 0. 1. 0. 2. 2. 0. 0. 0. 0. 2. 0. 0. 2. 0. 0.\n",
      " 0. 2. 0. 2.]\n"
     ]
    }
   ],
   "source": [
    "#It shows the doors situation where 0s are the closed ones, 2s the open ones, 1 is the car\n",
    "print(doors)"
   ]
  },
  {
   "cell_type": "code",
   "execution_count": 17,
   "id": "ef60cd00-3ae3-484d-85c2-c8ba5b3c6e09",
   "metadata": {},
   "outputs": [],
   "source": [
    "#We simulate the three players\n",
    "s_guess=0 #Initialise the switcher's guess \n",
    "indexes=[]\n",
    "for i in range (len(doors)):\n",
    "    if(doors[i] != 2) & (i != guess): #Records the indexes of the switcher\n",
    "        indexes.append(i)\n",
    "s_guess=random.choice(indexes) #The switcher makes a new guess\n",
    "\n",
    "c_guess=guess #Conservative's guess\n",
    "\n",
    "indexes=[]\n",
    "n_guess=0 #Initialise the newcomer's guess\n",
    "for i in range (len(doors)):\n",
    "    if(doors[i] != 2): #Records the indexes of the newcomer\n",
    "        indexes.append(i)\n",
    "n_guess=random.choice(indexes) #Newcomer's guess"
   ]
  },
  {
   "cell_type": "code",
   "execution_count": 18,
   "id": "8f31fa36-16b0-416b-9c58-c0ef416593ce",
   "metadata": {},
   "outputs": [
    {
     "name": "stdout",
     "output_type": "stream",
     "text": [
      "82 43 4 67\n"
     ]
    }
   ],
   "source": [
    "#Just check the indexes\n",
    "print(car_index, s_guess, c_guess, n_guess)"
   ]
  },
  {
   "cell_type": "code",
   "execution_count": 19,
   "id": "cd8eeb84-983d-42b2-8f84-5f7fc9be789f",
   "metadata": {},
   "outputs": [
    {
     "name": "stderr",
     "output_type": "stream",
     "text": [
      "/tmp/ipykernel_7751/1878268650.py:31: DeprecationWarning: Calling nonzero on 0d arrays is deprecated, as it behaves surprisingly. Use `atleast_1d(cond).nonzero()` if the old behavior was intended. If the context of this warning is of the form `arr[nonzero(cond)]`, just use `arr[cond]`.\n",
      "  doors_indexes = np.delete(doors_indexes, np.where(doors_indexes == opening_index), 0) #Delete the value of the index of the open door\n"
     ]
    },
    {
     "name": "stdout",
     "output_type": "stream",
     "text": [
      "0.0091 0.0088 0.0105\n"
     ]
    }
   ],
   "source": [
    "#Let's do several simulations\n",
    "s_w=0 #Initialise switcher's victories\n",
    "c_w=0 #Initialise conservatives's victories\n",
    "n_w=0 #Initialise newcomer's victories\n",
    "\n",
    "S=10000 #Number of simulations\n",
    "\n",
    "for i in range(S):\n",
    "    #We initialise an array to simulate the doors of length N\n",
    "    N=100 #Number of doors\n",
    "    doors=np.zeros(N)\n",
    "\n",
    "    #We define where is the car\n",
    "    car_index=random.randint(0,(N-1))\n",
    "    doors[car_index]=1\n",
    "\n",
    "    #We define the first guess of any player\n",
    "    guess=random.randint(0, (N-1))\n",
    "\n",
    "    #Create an array with the the door indexes\n",
    "    doors_indexes=[]\n",
    "    for i in range(len(doors)):\n",
    "        if (i != car_index) & (i != guess): #It ignores indexes of car's door and the guess' door\n",
    "            doors_indexes.append(i)\n",
    "\n",
    "    #We \"reveal\" p goats, scilicet we take their indexes off\n",
    "    p=60 #Opened doors\n",
    "    for i in range(p):\n",
    "        opening_index=random.choice(doors_indexes) #Return an index of a to-be-open door\n",
    "        doors[opening_index]=2 #Set a \"2\" for the opened doors\n",
    "        doors_indexes = np.delete(doors_indexes, np.where(doors_indexes == opening_index), 0) #Delete the value of the index of the open door\n",
    "\n",
    "    #Let's record the victories\n",
    "    if s_guess==car_index:\n",
    "        s_w+=1\n",
    "        \n",
    "    if c_guess==car_index:\n",
    "        c_w+=1\n",
    "\n",
    "    if n_guess==car_index:\n",
    "        n_w+=1\n",
    "\n",
    "print(s_w/S, c_w/S, n_w/S)"
   ]
  },
  {
   "cell_type": "code",
   "execution_count": null,
   "id": "37cfc382-370e-4a9f-94cd-d3c95e142554",
   "metadata": {},
   "outputs": [],
   "source": []
  }
 ],
 "metadata": {
  "kernelspec": {
   "display_name": "Python 3 (ipykernel)",
   "language": "python",
   "name": "python3"
  },
  "language_info": {
   "codemirror_mode": {
    "name": "ipython",
    "version": 3
   },
   "file_extension": ".py",
   "mimetype": "text/x-python",
   "name": "python",
   "nbconvert_exporter": "python",
   "pygments_lexer": "ipython3",
   "version": "3.12.4"
  }
 },
 "nbformat": 4,
 "nbformat_minor": 5
}
